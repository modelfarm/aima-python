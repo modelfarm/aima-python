{
 "cells": [
  {
   "cell_type": "code",
   "execution_count": null,
   "id": "0e27971f",
   "metadata": {},
   "outputs": [],
   "source": [
    "\n",
    "import os,sys,inspect\n",
    "\n",
    "current_dir = os.path.dirname(os.path.abspath(\n",
    "        inspect.getfile(inspect.currentframe())))\n",
    "parent_dir = os.path.dirname(current_dir)\n",
    "sys.path.insert(0, parent_dir) \n",
    "\n"
   ]
  },
  {
   "cell_type": "code",
   "execution_count": 7,
   "id": "1fd8277a",
   "metadata": {},
   "outputs": [
    {
     "data": {
      "text/plain": [
       "'C:\\\\Users\\\\josel\\\\AppData\\\\Local\\\\Temp\\\\ipykernel_20988'"
      ]
     },
     "execution_count": 7,
     "metadata": {},
     "output_type": "execute_result"
    }
   ],
   "source": [
    "current_dir\n",
    "#parent_dir"
   ]
  },
  {
   "cell_type": "code",
   "execution_count": null,
   "id": "6bf857b4",
   "metadata": {},
   "outputs": [],
   "source": [
    "# Now you can import a module from the parent directory\n",
    "from agents import *\n",
    "\n",
    "import random\n",
    "\n",
    "random.seed(1234)"
   ]
  },
  {
   "cell_type": "code",
   "execution_count": null,
   "id": "2c1ab0b6",
   "metadata": {},
   "outputs": [],
   "source": [
    "collections\n",
    "collections.Iterable = collections.abc.Iterable\n",
    "collections.Sequence = collections.abc.Sequence"
   ]
  },
  {
   "cell_type": "code",
   "execution_count": null,
   "id": "533ea632",
   "metadata": {},
   "outputs": [],
   "source": [
    "# Agent Class - Fire brigade Agent - Model\n",
    "class ModelFireman(Agent):\n",
    "    location = [0, 0]\n",
    "    Name = 'ModelFireman'\n",
    "    Agent.isHoldingWater = False\n",
    "\n",
    "    def takeWater(self, thing):\n",
    "        '''returns True upon success or False otherwise'''\n",
    "        if isinstance(thing, Water):\n",
    "            return True\n",
    "        return False\n",
    "\n",
    "    def estinguishFire(self, thing):\n",
    "        '''returns True upon success or False otherwise'''\n",
    "        if isinstance(thing, Fire):\n",
    "            return True\n",
    "        return False"
   ]
  },
  {
   "cell_type": "code",
   "execution_count": null,
   "id": "b9485ac4",
   "metadata": {},
   "outputs": [],
   "source": [
    "# model = {(x, y): None for x in range(6) for y in range(6)}\n",
    "\n",
    "def programAgent(percept):\n",
    "    location, things = percept\n",
    "    for t in things:\n",
    "        # if model[tuple(location)] not in['Visited']:\n",
    "        if isinstance(t, Fire):\n",
    "            model[tuple(location)] = 'Fire'\n",
    "            print('There is Fire')\n",
    "            return 'Estinguish Fire'\n",
    "        elif isinstance(t, Water):\n",
    "            model[tuple(location)] = 'Water'\n",
    "            print('There is Water')\n",
    "            return 'Take Water'\n",
    "        model[tuple(location)] = t  # Update the model here\n",
    "\n",
    "    if not isinstance(model[tuple(location)], (Water, Fire)):\n",
    "        model[tuple(location)] = 'Visited'\n",
    "\n",
    "    choice = random.choice(('L', 'R', 'D', 'U'))\n",
    "    if choice !=0:\n",
    "        if choice == 'L':\n",
    "            pass\n",
    "        elif choice == 'R':\n",
    "            pass\n",
    "        elif choice == 'D':\n",
    "            pass\n",
    "        elif choice == 'U':\n",
    "            pass\n",
    "    return 'Move' + choice\n",
    "\n",
    "    return programAgent  # , model"
   ]
  },
  {
   "cell_type": "code",
   "execution_count": null,
   "id": "0b940106",
   "metadata": {},
   "outputs": [],
   "source": [
    "########################################\n",
    "# THING CLASSES\n",
    "########################################\n",
    "# Thing Class - Water\n",
    "class Water(Thing):\n",
    "    Name='Water'\n",
    "    pass\n",
    "\n",
    "# Thing Class - Fire\n",
    "\n",
    "\n",
    "class Fire(Thing):\n",
    "    Name='Fire'\n",
    "    pass\n",
    "\n",
    "\n",
    "class Wall(Obstacle):\n",
    "    Name='Wall'\n",
    "    pass\n",
    "\n",
    "\n",
    "class Path(Thing):\n",
    "    pass"
   ]
  },
  {
   "cell_type": "code",
   "execution_count": null,
   "id": "3996e64d",
   "metadata": {},
   "outputs": [],
   "source": [
    "class Forrest2D(GraphicEnvironment):\n",
    "    def percept(self, agent):\n",
    "        listThings = []\n",
    "        for things in self.list_things_at(agent.location):\n",
    "            if things != agent:\n",
    "                listThings.append(things)\n",
    "        \"\"\"By default, agent perceives things within a default radius.\"\"\"\n",
    "        return agent.location, listThings\n",
    "\n",
    "    def thing_classes(self):\n",
    "        return [Fire, Water, ModelFireman]\n",
    "\n",
    "    def execute_action(self, agent, action):\n",
    "        if action == 'MoveR':\n",
    "            if agent.location[0]>=0 and agent.location[0]< 5:\n",
    "                agent.location[0]+=1\n",
    "                agent.performance -= 1\n",
    "                # print('R here we go')\n",
    "        elif action == 'MoveL':\n",
    "            if agent.location[0]>0 and agent.location[0]<=5:\n",
    "                agent.location[0]-=1\n",
    "                agent.performance -= 1\n",
    "                # print('L here we go')\n",
    "        elif action == 'MoveU':\n",
    "            if agent.location[1]>=0 and agent.location[1]<5:\n",
    "                agent.location[1]+=1\n",
    "                agent.performance -= 1\n",
    "                # print('U here we go')\n",
    "        elif action == 'MoveD':\n",
    "            if agent.location[1]>0 and agent.location[1]<=5:\n",
    "                agent.location[1]-=1\n",
    "                agent.performance -= 1\n",
    "                # print('D here we go')\n",
    "        elif action == 'Take Water':\n",
    "            items = self.list_things_at(agent.location, tclass=Water)\n",
    "            if len(items) != 0:\n",
    "                if agent.takeWater(items[0]):\n",
    "                    agent.performance += 100\n",
    "                    self.delete_thing(items[0])\n",
    "                    agent.isHoldingWater = True\n",
    "                    print('New action to Take Water')\n",
    "        elif action == 'Estinguish Fire':\n",
    "            items = self.list_things_at(agent.location, tclass=Fire)\n",
    "            if len(items) != 0:\n",
    "                if agent.estinguishFire(items[0]) and agent.isHoldingWater:\n",
    "                    agent.performance += 100\n",
    "                    self.delete_thing(items[0])\n",
    "                    agent.isHoldingWater = False\n",
    "                    print('New action to Estinguish Fire')\n",
    "                else:\n",
    "                    agent.performance -= 100\n",
    "                    print('Burning, no water')\n",
    "\n",
    "            if model[tuple(agent.location)] == 'Visited':\n",
    "                agent.performance -= 10\n",
    "\n",
    "        print(model[tuple(agent.location)])\n",
    "        print(agent.location)\n",
    "        print(\n",
    "            f'Fireman performance: {agent.performance} and is holding water: {agent.isHoldingWater}')\n",
    "\n",
    "    def is_done(self):\n",
    "\n",
    "        return False"
   ]
  },
  {
   "cell_type": "code",
   "execution_count": null,
   "id": "ca9d1c9f",
   "metadata": {},
   "outputs": [],
   "source": []
  },
  {
   "cell_type": "code",
   "execution_count": null,
   "id": "98a75841",
   "metadata": {},
   "outputs": [],
   "source": []
  },
  {
   "cell_type": "code",
   "execution_count": null,
   "id": "84bb4013",
   "metadata": {},
   "outputs": [],
   "source": [
    "model = {(x, y): None for x in range(width) for y in range(height)}\n",
    "forrest = Forrest2D(width, height, color={'ModelFireman': (230, 115, 40), 'Water': (\n",
    "    0, 200, 200), 'Fire': (200, 0, 0), 'Wall': (50, 50, 50), 'Path': (120, 0, 100)})"
   ]
  },
  {
   "cell_type": "code",
   "execution_count": null,
   "id": "9433a446",
   "metadata": {},
   "outputs": [],
   "source": [
    "# Define the positions of obstacles.\n",
    "obstacles = [(5, 4), (4, 4), (2, 4), (1, 4), (3, 4), (6, 4), (7, 4), (8, 4), (9, 4)]\n",
    "\n",
    "\n",
    "def add_obstacles(self, obstacles):\n",
    "    for each in obstacles:\n",
    "        print(each)\n",
    "        x, y = each\n",
    "        self.add_thing(Wall(), (x, y))"
   ]
  },
  {
   "cell_type": "code",
   "execution_count": null,
   "id": "ada9aefc",
   "metadata": {},
   "outputs": [],
   "source": []
  },
  {
   "cell_type": "code",
   "execution_count": null,
   "id": "46d8590a",
   "metadata": {
    "scrolled": false
   },
   "outputs": [],
   "source": [
    "fireman = ModelFireman(programAgent)\n",
    "fire = Fire()\n",
    "water = Water()\n",
    "wall = Wall()\n",
    "\n",
    "forrest.add_thing(fireman, [1, 1])\n",
    "forrest.add_thing(water, [3, 4])\n",
    "forrest.add_thing(fire, [3, 5])\n",
    "add_obstacles(forrest, obstacles)"
   ]
  },
  {
   "cell_type": "code",
   "execution_count": null,
   "id": "ff2cf784",
   "metadata": {},
   "outputs": [],
   "source": [
    "forrest.run(500, delay=0.01)"
   ]
  },
  {
   "cell_type": "code",
   "execution_count": null,
   "id": "2295e4fc",
   "metadata": {},
   "outputs": [],
   "source": [
    "print(f'Fireman performance: {fireman.performance} and is holding water: {fireman.isHoldingWater}')"
   ]
  },
  {
   "cell_type": "code",
   "execution_count": null,
   "id": "4db56822",
   "metadata": {},
   "outputs": [],
   "source": [
    "print(model)"
   ]
  },
  {
   "cell_type": "code",
   "execution_count": null,
   "id": "a167fdb4",
   "metadata": {},
   "outputs": [],
   "source": [
    "\n",
    "\n"
   ]
  },
  {
   "cell_type": "code",
   "execution_count": null,
   "id": "5de04b73",
   "metadata": {},
   "outputs": [],
   "source": [
    "class FirefightingProblem(Problem):\n",
    "    def __init__(self, initial, goal=None, graph=None):\n",
    "        super().__init__(initial, goal)\n",
    "        self.graph = graph\n",
    "\n",
    "    def actions(self, state):\n",
    "        # Return possible movements (up, down, left, right) that do not lead to obstacles.\n",
    "        x, y = state\n",
    "        possible_actions = []\n",
    "\n",
    "        for dx, dy in [(-1, 0), (1, 0), (0, -1), (0, 1)]:\n",
    "            new_x, new_y = x + dx, y + dy\n",
    "            if self.graph[new_x][new_y] != 'Obstacle':\n",
    "                possible_actions.append((new_x, new_y))\n",
    "\n",
    "        return possible_actions\n",
    "\n",
    "    def result(self, state, action):\n",
    "        # Return the state after taking the given action.\n",
    "        return action\n",
    "\n",
    "    def goal_test(self, state):\n",
    "        # Check if the state is at the exit point (goal).\n",
    "        return state == self.goal\n",
    "\n",
    "    def path_cost(self, cost_so_far, state1, action, state2):\n",
    "        # Assign a cost of 1 per move (action).\n",
    "        return cost_so_far + 1\n",
    "\n",
    "    def h(self, node):\n",
    "        # Estimate the remaining distance to the goal using Euclidean distance.\n",
    "        x1, y1 = node.state\n",
    "        x2, y2 = self.goal\n",
    "        return int(distance.euclidean((x1, y1), (x2, y2)))"
   ]
  },
  {
   "cell_type": "code",
   "execution_count": null,
   "id": "4e301fb1",
   "metadata": {},
   "outputs": [],
   "source": [
    "class FirefightingNode(Node):\n",
    "    def __init__(self, state, parent=None, action=None, path_cost=0):\n",
    "        super().__init__(state, parent, action, path_cost)\n",
    "        self.depth = 0 if parent is None else parent.depth + 1"
   ]
  },
  {
   "cell_type": "code",
   "execution_count": null,
   "id": "4337b75a",
   "metadata": {},
   "outputs": [],
   "source": [
    "def create_firefighting_graph(width, height, obstacles, start, goal):\n",
    "    # Create a grid-based graph representing the firefighting environment.\n",
    "    graph = [[''] * height for _ in range(width)]\n",
    "\n",
    "    for x, y in obstacles:\n",
    "        graph[x][y] = 'Obstacle'\n",
    "\n",
    "    graph[start[0]][start[1]] = 'Start'\n",
    "    graph[goal[0]][goal[1]] = 'Goal'\n",
    "\n",
    "    return graph"
   ]
  },
  {
   "cell_type": "code",
   "execution_count": null,
   "id": "e7621cca",
   "metadata": {},
   "outputs": [],
   "source": [
    "# Define the dimensions of the grid and the initial state.\n",
    "start = (1, 1)\n",
    "goal = (6, 7)"
   ]
  },
  {
   "cell_type": "code",
   "execution_count": null,
   "id": "1ebcdcbc",
   "metadata": {},
   "outputs": [],
   "source": [
    "# Create the grid-based graph.\n",
    "graph = create_firefighting_graph(width, height, obstacles, start, goal)\n",
    "\n",
    "# Create a FirefightingProblem instance with the defined initial and goal states.\n",
    "problem = FirefightingProblem(start, goal, graph)\n",
    "\n",
    "# Find the optimal path using A* search.\n",
    "# goal_node = astar_search(problem, display=True)\n",
    "\n",
    "goal_node = best_first_graph_search(problem, display=True)\n",
    "\n",
    "# Extract the optimal path from the goal node.\n",
    "optimal_path = [n.state for n in goal_node.path()]"
   ]
  },
  {
   "cell_type": "code",
   "execution_count": null,
   "id": "85853172",
   "metadata": {},
   "outputs": [],
   "source": [
    "# Get the number of iterations\n",
    "iterations = goal_node.path_cost\n",
    "\n",
    "# Print the optimal path and other information.\n",
    "print(\"Optimal Path:\", optimal_path)\n",
    "print(\"Number of Iterations:\", iterations)\n",
    "print(goal_node)"
   ]
  },
  {
   "cell_type": "code",
   "execution_count": null,
   "id": "3dd0af74",
   "metadata": {},
   "outputs": [],
   "source": [
    "def add_path(self, obstacles):\n",
    "    for each in obstacles:\n",
    "        print(each)\n",
    "        x, y = each\n",
    "        self.add_thing(Path(), (x, y))\n",
    "\n",
    "\n",
    "add_path(forrest, optimal_path)"
   ]
  },
  {
   "cell_type": "code",
   "execution_count": null,
   "id": "38cc3bea",
   "metadata": {},
   "outputs": [],
   "source": [
    "forrest.run(0, delay=0.01)"
   ]
  },
  {
   "cell_type": "code",
   "execution_count": null,
   "id": "8a1c2408",
   "metadata": {},
   "outputs": [],
   "source": []
  }
 ],
 "metadata": {
  "kernelspec": {
   "display_name": "Python 3 (ipykernel)",
   "language": "python",
   "name": "python3"
  },
  "language_info": {
   "codemirror_mode": {
    "name": "ipython",
    "version": 3
   },
   "file_extension": ".py",
   "mimetype": "text/x-python",
   "name": "python",
   "nbconvert_exporter": "python",
   "pygments_lexer": "ipython3",
   "version": "3.11.6"
  },
  "vp": {
   "vp_config_version": "1.0.0",
   "vp_menu_width": 273,
   "vp_note_display": false,
   "vp_note_width": 0,
   "vp_position": {
    "width": 278
   },
   "vp_section_display": false,
   "vp_signature": "VisualPython"
  }
 },
 "nbformat": 4,
 "nbformat_minor": 5
}
