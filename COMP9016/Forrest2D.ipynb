{
 "cells": [
  {
   "cell_type": "code",
   "execution_count": 27,
   "id": "cdab811b",
   "metadata": {},
   "outputs": [],
   "source": [
    "import sys\n",
    "import os\n",
    "\n",
    "# Get the parent directory of the current directory\n",
    "parent_dir = os.path.dirname(os.getcwd())\n",
    "\n",
    "# Add the parent directory to sys.path\n",
    "sys.path.append(parent_dir)\n",
    "\n",
    "#Now you can import a module from the parent directory\n",
    "from agents import *\n",
    "import random\n",
    "\n",
    "random.seed(1234)"
   ]
  },
  {
   "cell_type": "code",
   "execution_count": 28,
   "id": "533ea632",
   "metadata": {},
   "outputs": [],
   "source": [
    "# Agent Class - Fire brigade Agent - Model\n",
    "class ModelFireman(Agent):\n",
    "    location = [0,0]           \n",
    "    Name = 'ModelFireman'\n",
    "    Agent.isHoldingWater = False\n",
    "    \n",
    "    def takeWater(self, thing):\n",
    "        '''returns True upon success or False otherwise'''\n",
    "        if isinstance(thing, Water):\n",
    "            return True\n",
    "        return False\n",
    "    \n",
    "    def estinguishFire(self, thing):\n",
    "        '''returns True upon success or False otherwise'''\n",
    "        if isinstance(thing, Fire):\n",
    "            return True\n",
    "        return False"
   ]
  },
  {
   "cell_type": "code",
   "execution_count": 29,
   "id": "a70338c9",
   "metadata": {},
   "outputs": [],
   "source": [
    "# model = {(x, y): None for x in range(6) for y in range(6)}\n",
    "\n",
    "def programAgent(percept):\n",
    "    location, things = percept\n",
    "    for t in things:\n",
    "        #if model[tuple(location)] not in['Visited']:\n",
    "        if isinstance(t, Fire):\n",
    "            model[tuple(location)] = 'Fire'\n",
    "            print('There is Fire')\n",
    "            return 'Estinguish Fire'\n",
    "        elif isinstance(t, Water):\n",
    "            model[tuple(location)] = 'Water'\n",
    "            print('There is Water')\n",
    "            return 'Take Water'     \n",
    "        model[tuple(location)] = t  # Update the model here\n",
    "\n",
    "    if not isinstance(model[tuple(location)],(Water,Fire)):\n",
    "        model[tuple(location)] = 'Visited'\n",
    "\n",
    "    choice = random.choice(('L','R','D','U'))\n",
    "    if  choice !=0:\n",
    "        if choice == 'L':\n",
    "            pass\n",
    "        elif choice == 'R':\n",
    "            pass\n",
    "        elif choice == 'D':\n",
    "            pass\n",
    "        elif choice == 'U':\n",
    "            pass\n",
    "    return 'Move' + choice\n",
    "\n",
    "    return programAgent#, model"
   ]
  },
  {
   "cell_type": "code",
   "execution_count": 30,
   "id": "0b940106",
   "metadata": {},
   "outputs": [],
   "source": [
    "########################################\n",
    "# THING CLASSES\n",
    "########################################\n",
    "# Thing Class - Water\n",
    "class Water(Thing):\n",
    "    Name='Water'\n",
    "    pass\n",
    "\n",
    "# Thing Class - Fire\n",
    "class Fire(Thing):\n",
    "    Name='Fire'\n",
    "    pass"
   ]
  },
  {
   "cell_type": "code",
   "execution_count": 31,
   "id": "984759e2",
   "metadata": {},
   "outputs": [],
   "source": [
    "class Forrest2D(GraphicEnvironment):\n",
    "    def percept(self, agent):\n",
    "        listThings = []\n",
    "        for things in self.list_things_at(agent.location):\n",
    "            if things != agent:\n",
    "                listThings.append(things)   \n",
    "        \"\"\"By default, agent perceives things within a default radius.\"\"\"\n",
    "        return agent.location, listThings\n",
    "    \n",
    "    def thing_classes(self):\n",
    "        return [Fire, Water, ModelFireman]\n",
    "\n",
    "    def execute_action(self, agent, action):\n",
    "        if action == 'MoveR':\n",
    "            if agent.location[0]>=0 and agent.location[0]< 5:\n",
    "                agent.location[0]+=1\n",
    "                agent.performance -= 1\n",
    "                #print('R here we go')       \n",
    "        elif action == 'MoveL':\n",
    "            if agent.location[0]>0 and agent.location[0]<=5:\n",
    "                agent.location[0]-=1\n",
    "                agent.performance -= 1\n",
    "                #print('L here we go')         \n",
    "        elif action == 'MoveU':\n",
    "            if agent.location[1]>=0 and agent.location[1]<5:\n",
    "                agent.location[1]+=1\n",
    "                agent.performance -= 1\n",
    "                #print('U here we go')               \n",
    "        elif action == 'MoveD':\n",
    "            if agent.location[1]>0 and agent.location[1]<=5:\n",
    "                agent.location[1]-=1\n",
    "                agent.performance -= 1             \n",
    "                #print('D here we go') \n",
    "        elif action == 'Take Water':\n",
    "            items = self.list_things_at(agent.location, tclass=Water)\n",
    "            if len(items) != 0:\n",
    "                if agent.takeWater(items[0]): \n",
    "                    agent.performance += 100\n",
    "                    self.delete_thing(items[0])\n",
    "                    agent.isHoldingWater = True\n",
    "                    print('Take Water')\n",
    "        elif action == 'Estinguish Fire':\n",
    "            items = self.list_things_at(agent.location, tclass=Fire)\n",
    "            if len(items) != 0:                  \n",
    "                if agent.estinguishFire(items[0]) and agent.isHoldingWater:\n",
    "                    agent.performance += 100\n",
    "                    self.delete_thing(items[0])\n",
    "                    agent.isHoldingWater = False\n",
    "                    print('Estinguish Fire')\n",
    "                else:\n",
    "                    agent.performance -= 100\n",
    "                    print('Burning, no water')\n",
    "                    \n",
    "            if model[tuple(agent.location)] == 'Visited':\n",
    "                agent.performance -= 10\n",
    "            \n",
    "        print(model[tuple(agent.location)])\n",
    "        print(agent.location)\n",
    "        print(f'Fireman performance: {agent.performance} and is holding water: {agent.isHoldingWater}')\n",
    "\n",
    "    def is_done(self):\n",
    "        \n",
    "        return False"
   ]
  },
  {
   "cell_type": "code",
   "execution_count": 32,
   "id": "ca9d1c9f",
   "metadata": {},
   "outputs": [],
   "source": [
    "collections\n",
    "collections.Iterable = collections.abc.Iterable\n",
    "collections.Sequence = collections.abc.Sequence"
   ]
  },
  {
   "cell_type": "code",
   "execution_count": 33,
   "id": "46d8590a",
   "metadata": {
    "scrolled": false
   },
   "outputs": [],
   "source": [
    "model = {(x, y): None for x in range(6) for y in range(6)}\n",
    "forrest = Forrest2D(6,6, color={'ModelFireman': (230, 115, 40), 'Water': (0, 200, 200), 'Fire': (200,0,0)})\n",
    "\n",
    "fireman = ModelFireman(programAgent)\n",
    "fire = Fire()\n",
    "water = Water()\n",
    "\n",
    "forrest.add_thing(fireman, [3,3])\n",
    "forrest.add_thing(water, [3,4])\n",
    "forrest.add_thing(fire, [3,5])"
   ]
  },
  {
   "cell_type": "code",
   "execution_count": 34,
   "id": "6127261b",
   "metadata": {},
   "outputs": [
    {
     "data": {
      "text/html": [
       "<style type=\"text/css\">table.blockgrid {border: none;} .blockgrid tr {border: none;} .blockgrid td {padding: 0px;} #blocks708032c2-2365-4542-8614-f1b4b5bf21b5 td {border: 1px solid white;}</style><table id=\"blocks708032c2-2365-4542-8614-f1b4b5bf21b5\" class=\"blockgrid\"><tbody><tr><td title=\"Index: [0, 0]&#10;Color: (200, 200, 200)\" style=\"width: 20px; height: 20px;background-color: rgb(200, 200, 200);\"></td><td title=\"Index: [0, 1]&#10;Color: (200, 200, 200)\" style=\"width: 20px; height: 20px;background-color: rgb(200, 200, 200);\"></td><td title=\"Index: [0, 2]&#10;Color: (200, 200, 200)\" style=\"width: 20px; height: 20px;background-color: rgb(200, 200, 200);\"></td><td title=\"Index: [0, 3]&#10;Color: (200, 200, 200)\" style=\"width: 20px; height: 20px;background-color: rgb(200, 200, 200);\"></td><td title=\"Index: [0, 4]&#10;Color: (200, 200, 200)\" style=\"width: 20px; height: 20px;background-color: rgb(200, 200, 200);\"></td><td title=\"Index: [0, 5]&#10;Color: (200, 200, 200)\" style=\"width: 20px; height: 20px;background-color: rgb(200, 200, 200);\"></td></tr><tr><td title=\"Index: [1, 0]&#10;Color: (200, 200, 200)\" style=\"width: 20px; height: 20px;background-color: rgb(200, 200, 200);\"></td><td title=\"Index: [1, 1]&#10;Color: (200, 200, 200)\" style=\"width: 20px; height: 20px;background-color: rgb(200, 200, 200);\"></td><td title=\"Index: [1, 2]&#10;Color: (200, 200, 200)\" style=\"width: 20px; height: 20px;background-color: rgb(200, 200, 200);\"></td><td title=\"Index: [1, 3]&#10;Color: (200, 200, 200)\" style=\"width: 20px; height: 20px;background-color: rgb(200, 200, 200);\"></td><td title=\"Index: [1, 4]&#10;Color: (230, 115, 40)\" style=\"width: 20px; height: 20px;background-color: rgb(230, 115, 40);\"></td><td title=\"Index: [1, 5]&#10;Color: (200, 200, 200)\" style=\"width: 20px; height: 20px;background-color: rgb(200, 200, 200);\"></td></tr><tr><td title=\"Index: [2, 0]&#10;Color: (200, 200, 200)\" style=\"width: 20px; height: 20px;background-color: rgb(200, 200, 200);\"></td><td title=\"Index: [2, 1]&#10;Color: (200, 200, 200)\" style=\"width: 20px; height: 20px;background-color: rgb(200, 200, 200);\"></td><td title=\"Index: [2, 2]&#10;Color: (200, 200, 200)\" style=\"width: 20px; height: 20px;background-color: rgb(200, 200, 200);\"></td><td title=\"Index: [2, 3]&#10;Color: (200, 200, 200)\" style=\"width: 20px; height: 20px;background-color: rgb(200, 200, 200);\"></td><td title=\"Index: [2, 4]&#10;Color: (200, 200, 200)\" style=\"width: 20px; height: 20px;background-color: rgb(200, 200, 200);\"></td><td title=\"Index: [2, 5]&#10;Color: (200, 200, 200)\" style=\"width: 20px; height: 20px;background-color: rgb(200, 200, 200);\"></td></tr><tr><td title=\"Index: [3, 0]&#10;Color: (200, 200, 200)\" style=\"width: 20px; height: 20px;background-color: rgb(200, 200, 200);\"></td><td title=\"Index: [3, 1]&#10;Color: (200, 200, 200)\" style=\"width: 20px; height: 20px;background-color: rgb(200, 200, 200);\"></td><td title=\"Index: [3, 2]&#10;Color: (200, 200, 200)\" style=\"width: 20px; height: 20px;background-color: rgb(200, 200, 200);\"></td><td title=\"Index: [3, 3]&#10;Color: (200, 200, 200)\" style=\"width: 20px; height: 20px;background-color: rgb(200, 200, 200);\"></td><td title=\"Index: [3, 4]&#10;Color: (200, 200, 200)\" style=\"width: 20px; height: 20px;background-color: rgb(200, 200, 200);\"></td><td title=\"Index: [3, 5]&#10;Color: (200, 200, 200)\" style=\"width: 20px; height: 20px;background-color: rgb(200, 200, 200);\"></td></tr><tr><td title=\"Index: [4, 0]&#10;Color: (200, 200, 200)\" style=\"width: 20px; height: 20px;background-color: rgb(200, 200, 200);\"></td><td title=\"Index: [4, 1]&#10;Color: (200, 200, 200)\" style=\"width: 20px; height: 20px;background-color: rgb(200, 200, 200);\"></td><td title=\"Index: [4, 2]&#10;Color: (200, 200, 200)\" style=\"width: 20px; height: 20px;background-color: rgb(200, 200, 200);\"></td><td title=\"Index: [4, 3]&#10;Color: (200, 200, 200)\" style=\"width: 20px; height: 20px;background-color: rgb(200, 200, 200);\"></td><td title=\"Index: [4, 4]&#10;Color: (200, 200, 200)\" style=\"width: 20px; height: 20px;background-color: rgb(200, 200, 200);\"></td><td title=\"Index: [4, 5]&#10;Color: (200, 200, 200)\" style=\"width: 20px; height: 20px;background-color: rgb(200, 200, 200);\"></td></tr><tr><td title=\"Index: [5, 0]&#10;Color: (200, 200, 200)\" style=\"width: 20px; height: 20px;background-color: rgb(200, 200, 200);\"></td><td title=\"Index: [5, 1]&#10;Color: (200, 200, 200)\" style=\"width: 20px; height: 20px;background-color: rgb(200, 200, 200);\"></td><td title=\"Index: [5, 2]&#10;Color: (200, 200, 200)\" style=\"width: 20px; height: 20px;background-color: rgb(200, 200, 200);\"></td><td title=\"Index: [5, 3]&#10;Color: (200, 200, 200)\" style=\"width: 20px; height: 20px;background-color: rgb(200, 200, 200);\"></td><td title=\"Index: [5, 4]&#10;Color: (200, 200, 200)\" style=\"width: 20px; height: 20px;background-color: rgb(200, 200, 200);\"></td><td title=\"Index: [5, 5]&#10;Color: (200, 200, 200)\" style=\"width: 20px; height: 20px;background-color: rgb(200, 200, 200);\"></td></tr></tbody></table>"
      ],
      "text/plain": [
       "<IPython.core.display.HTML object>"
      ]
     },
     "metadata": {},
     "output_type": "display_data"
    }
   ],
   "source": [
    "forrest.run(300,delay=0.01)"
   ]
  },
  {
   "cell_type": "code",
   "execution_count": 35,
   "id": "0fd23e83",
   "metadata": {},
   "outputs": [
    {
     "name": "stdout",
     "output_type": "stream",
     "text": [
      "Fireman performance: -57 and is holding water: False\n"
     ]
    }
   ],
   "source": [
    "print(f'Fireman performance: {fireman.performance} and is holding water: {fireman.isHoldingWater}')"
   ]
  },
  {
   "cell_type": "code",
   "execution_count": 36,
   "id": "c7be0c03",
   "metadata": {},
   "outputs": [
    {
     "name": "stdout",
     "output_type": "stream",
     "text": [
      "{(0, 0): 'Visited', (0, 1): 'Visited', (0, 2): 'Visited', (0, 3): 'Visited', (0, 4): 'Visited', (0, 5): 'Visited', (1, 0): 'Visited', (1, 1): 'Visited', (1, 2): 'Visited', (1, 3): 'Visited', (1, 4): 'Visited', (1, 5): 'Visited', (2, 0): 'Visited', (2, 1): 'Visited', (2, 2): 'Visited', (2, 3): 'Visited', (2, 4): 'Visited', (2, 5): 'Visited', (3, 0): 'Visited', (3, 1): 'Visited', (3, 2): 'Visited', (3, 3): 'Visited', (3, 4): 'Visited', (3, 5): 'Visited', (4, 0): 'Visited', (4, 1): 'Visited', (4, 2): 'Visited', (4, 3): 'Visited', (4, 4): 'Visited', (4, 5): 'Visited', (5, 0): None, (5, 1): 'Visited', (5, 2): 'Visited', (5, 3): 'Visited', (5, 4): 'Visited', (5, 5): 'Visited'}\n"
     ]
    }
   ],
   "source": [
    "print(model)"
   ]
  },
  {
   "cell_type": "code",
   "execution_count": null,
   "id": "9fa59171",
   "metadata": {},
   "outputs": [],
   "source": []
  }
 ],
 "metadata": {
  "kernelspec": {
   "display_name": "Python 3 (ipykernel)",
   "language": "python",
   "name": "python3"
  },
  "language_info": {
   "codemirror_mode": {
    "name": "ipython",
    "version": 3
   },
   "file_extension": ".py",
   "mimetype": "text/x-python",
   "name": "python",
   "nbconvert_exporter": "python",
   "pygments_lexer": "ipython3",
   "version": "3.11.5"
  }
 },
 "nbformat": 4,
 "nbformat_minor": 5
}
