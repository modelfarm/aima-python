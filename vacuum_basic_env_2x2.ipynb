{
 "cells": [
  {
   "cell_type": "markdown",
   "id": "ad5bb563",
   "metadata": {},
   "source": [
    "Simple implementation of a vacuum cleaner agent that operates in a 2x2 grid world. \n",
    "The agent's goal is to clean dirt in its path efficiently. We'll use a simple rule-based approach for this task.\n",
    "First, define the environment, which in this case is a 2x2 grid world. \n",
    "Each cell in the grid can be in one of two states: clean or dirty."
   ]
  },
  {
   "cell_type": "code",
   "execution_count": 9,
   "id": "44b8fe37",
   "metadata": {},
   "outputs": [],
   "source": [
    "class Environment:\n",
    "    def __init__(self):\n",
    "        # Initialize a 2x2 grid with random dirt distribution\n",
    "        self.grid = [[random.choice(['clean', 'dirty']) for _ in range(2)] for _ in range(2)]\n",
    "        self.agent_location = (0, 0)\n",
    "\n",
    "    def is_dirty(self, x, y):\n",
    "        return self.grid[x][y] == 'dirty'\n",
    "\n",
    "    def clean(self, x, y):\n",
    "        self.grid[x][y] = 'clean'\n",
    "\n",
    "    def percept(self):\n",
    "        x, y = self.agent_location\n",
    "        return self.is_dirty(x, y)\n",
    "\n",
    "    def step(self, action):\n",
    "        x, y = self.agent_location\n",
    "        if action == 'clean':\n",
    "            self.clean(x, y)\n",
    "        elif action == 'move_right':\n",
    "            if y < 1:\n",
    "                self.agent_location = (x, y + 1)\n",
    "        elif action == 'move_down':\n",
    "            if x < 1:\n",
    "                self.agent_location = (x + 1, y)\n"
   ]
  },
  {
   "cell_type": "markdown",
   "id": "cec9d10c",
   "metadata": {},
   "source": [
    "Now, let's define a simple vacuum cleaner agent that follows a set of rules. \n",
    "The agent will clean if it perceives dirt and move right or down alternatively."
   ]
  },
  {
   "cell_type": "code",
   "execution_count": 10,
   "id": "d1c0cbf8",
   "metadata": {},
   "outputs": [],
   "source": [
    "class VacuumCleanerAgent:\n",
    "    def __init__(self):\n",
    "        self.actions = ['clean', 'move_right', 'move_down']\n",
    "        self.current_action = 0\n",
    "\n",
    "    def choose_action(self, percept):\n",
    "        if percept == 'dirty':\n",
    "            return 'clean'\n",
    "        else:\n",
    "            return self.actions[self.current_action]\n",
    "\n",
    "    def update_action(self):\n",
    "        self.current_action = (self.current_action + 1) % len(self.actions)\n"
   ]
  },
  {
   "cell_type": "markdown",
   "id": "54bc429c",
   "metadata": {},
   "source": [
    "Now, let's put everything together and run the agent in the environment for a few steps."
   ]
  },
  {
   "cell_type": "code",
   "execution_count": 12,
   "id": "d8243938",
   "metadata": {},
   "outputs": [
    {
     "name": "stdout",
     "output_type": "stream",
     "text": [
      "Percept: False, Action: clean\n",
      "Percept: False, Action: move_right\n",
      "Percept: False, Action: move_down\n",
      "Percept: True, Action: clean\n",
      "Percept: False, Action: move_right\n"
     ]
    }
   ],
   "source": [
    "import random\n",
    "\n",
    "env = Environment()\n",
    "agent = VacuumCleanerAgent()\n",
    "\n",
    "for _ in range(5):  # Run for 5 steps\n",
    "    percept = env.percept()\n",
    "    action = agent.choose_action(percept)\n",
    "    env.step(action)\n",
    "    agent.update_action()\n",
    "\n",
    "    print(f\"Percept: {percept}, Action: {action}\")\n"
   ]
  },
  {
   "cell_type": "code",
   "execution_count": null,
   "id": "fadff7bb",
   "metadata": {},
   "outputs": [],
   "source": []
  }
 ],
 "metadata": {
  "kernelspec": {
   "display_name": "Python 3 (ipykernel)",
   "language": "python",
   "name": "python3"
  },
  "language_info": {
   "codemirror_mode": {
    "name": "ipython",
    "version": 3
   },
   "file_extension": ".py",
   "mimetype": "text/x-python",
   "name": "python",
   "nbconvert_exporter": "python",
   "pygments_lexer": "ipython3",
   "version": "3.11.5"
  }
 },
 "nbformat": 4,
 "nbformat_minor": 5
}
