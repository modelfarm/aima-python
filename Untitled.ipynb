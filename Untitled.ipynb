{
 "cells": [
  {
   "cell_type": "code",
   "execution_count": 1,
   "id": "ee260b0f",
   "metadata": {},
   "outputs": [
    {
     "name": "stdout",
     "output_type": "stream",
     "text": [
      "Defaulting to user installation because normal site-packages is not writeable\n",
      "Collecting pygame\n",
      "  Obtaining dependency information for pygame from https://files.pythonhosted.org/packages/82/61/93ae7afbd931a70510cfdf0a7bb0007540020b8d80bc1d8762ebdc46479b/pygame-2.5.2-cp311-cp311-win_amd64.whl.metadata\n",
      "  Downloading pygame-2.5.2-cp311-cp311-win_amd64.whl.metadata (13 kB)\n",
      "Downloading pygame-2.5.2-cp311-cp311-win_amd64.whl (10.8 MB)\n",
      "   ---------------------------------------- 0.0/10.8 MB ? eta -:--:--\n",
      "   ---- ----------------------------------- 1.1/10.8 MB 23.3 MB/s eta 0:00:01\n",
      "   ------------- -------------------------- 3.6/10.8 MB 37.8 MB/s eta 0:00:01\n",
      "   --------------------------- ------------ 7.4/10.8 MB 52.6 MB/s eta 0:00:01\n",
      "   -------------------------------------- - 10.3/10.8 MB 59.5 MB/s eta 0:00:01\n",
      "   ---------------------------------------- 10.8/10.8 MB 54.4 MB/s eta 0:00:00\n",
      "Installing collected packages: pygame\n",
      "Successfully installed pygame-2.5.2\n"
     ]
    }
   ],
   "source": [
    "!pip install pygame"
   ]
  },
  {
   "cell_type": "code",
   "execution_count": 2,
   "id": "6660db9b",
   "metadata": {},
   "outputs": [
    {
     "name": "stdout",
     "output_type": "stream",
     "text": [
      "pygame 2.5.2 (SDL 2.28.3, Python 3.11.4)\n",
      "Hello from the pygame community. https://www.pygame.org/contribute.html\n"
     ]
    }
   ],
   "source": [
    "import pygame\n",
    "import random\n",
    "\n",
    "# Define colors\n",
    "WHITE = (255, 255, 255)\n",
    "BLACK = (0, 0, 0)\n",
    "\n",
    "# Define grid dimensions and cell size\n",
    "GRID_SIZE = 2\n",
    "CELL_SIZE = 100\n",
    "\n",
    "class Environment:\n",
    "    def __init__(self):\n",
    "        # Initialize a 2x2 grid with random dirt distribution\n",
    "        self.grid = [[random.choice(['clean', 'dirty']) for _ in range(GRID_SIZE)] for _ in range(GRID_SIZE)]\n",
    "        self.agent_location = (0, 0)\n",
    "\n",
    "    def is_dirty(self, x, y):\n",
    "        return self.grid[x][y] == 'dirty'\n",
    "\n",
    "    def clean(self, x, y):\n",
    "        self.grid[x][y] = 'clean'\n",
    "\n",
    "    def percept(self):\n",
    "        x, y = self.agent_location\n",
    "        return self.is_dirty(x, y)\n",
    "\n",
    "    def step(self, action):\n",
    "        x, y = self.agent_location\n",
    "        if action == 'clean':\n",
    "            self.clean(x, y)\n",
    "        elif action == 'move_right':\n",
    "            if y < GRID_SIZE - 1:\n",
    "                self.agent_location = (x, y + 1)\n",
    "        elif action == 'move_down':\n",
    "            if x < GRID_SIZE - 1:\n",
    "                self.agent_location = (x + 1, y)\n",
    "\n",
    "class VacuumCleanerAgent:\n",
    "    def __init__(self):\n",
    "        self.actions = ['clean', 'move_right', 'move_down']\n",
    "        self.current_action = 0\n",
    "\n",
    "    def choose_action(self, percept):\n",
    "        if percept == 'dirty':\n",
    "            return 'clean'\n",
    "        else:\n",
    "            return self.actions[self.current_action]\n",
    "\n",
    "    def update_action(self):\n",
    "        self.current_action = (self.current_action + 1) % len(self.actions)\n",
    "\n",
    "# Initialize Pygame\n",
    "pygame.init()\n",
    "\n",
    "# Create a window\n",
    "window_size = (GRID_SIZE * CELL_SIZE, GRID_SIZE * CELL_SIZE)\n",
    "screen = pygame.display.set_mode(window_size)\n",
    "pygame.display.set_caption(\"Vacuum Cleaner Agent\")\n",
    "\n",
    "# Create a clock to control the frame rate\n",
    "clock = pygame.time.Clock()\n",
    "\n",
    "# Create instances of the environment and agent\n",
    "env = Environment()\n",
    "agent = VacuumCleanerAgent()\n",
    "\n",
    "running = True\n",
    "while running:\n",
    "    for event in pygame.event.get():\n",
    "        if event.type == pygame.QUIT:\n",
    "            running = False\n",
    "\n",
    "    percept = env.percept()\n",
    "    action = agent.choose_action(percept)\n",
    "    env.step(action)\n",
    "    agent.update_action()\n",
    "\n",
    "    # Clear the screen\n",
    "    screen.fill(WHITE)\n",
    "\n",
    "    # Draw the grid\n",
    "    for x in range(GRID_SIZE):\n",
    "        for y in range(GRID_SIZE):\n",
    "            rect = pygame.Rect(x * CELL_SIZE, y * CELL_SIZE, CELL_SIZE, CELL_SIZE)\n",
    "            if env.is_dirty(x, y):\n",
    "                pygame.draw.rect(screen, BLACK, rect)\n",
    "            pygame.draw.rect(screen, WHITE, rect, 1)\n",
    "\n",
    "    # Update the display\n",
    "    pygame.display.flip()\n",
    "\n",
    "    # Limit the frame rate\n",
    "    clock.tick(2)\n",
    "\n",
    "pygame.quit()"
   ]
  },
  {
   "cell_type": "code",
   "execution_count": null,
   "id": "74aa0b00",
   "metadata": {},
   "outputs": [],
   "source": []
  }
 ],
 "metadata": {
  "kernelspec": {
   "display_name": "Python 3 (ipykernel)",
   "language": "python",
   "name": "python3"
  },
  "language_info": {
   "codemirror_mode": {
    "name": "ipython",
    "version": 3
   },
   "file_extension": ".py",
   "mimetype": "text/x-python",
   "name": "python",
   "nbconvert_exporter": "python",
   "pygments_lexer": "ipython3",
   "version": "3.11.4"
  }
 },
 "nbformat": 4,
 "nbformat_minor": 5
}
